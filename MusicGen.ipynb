{
  "cells": [
    {
      "cell_type": "markdown",
      "metadata": {
        "id": "view-in-github",
        "colab_type": "text"
      },
      "source": [
        "<a href=\"https://colab.research.google.com/github/bluecamel/audiocraft_ipynb/blob/main/MusicGen.ipynb\" target=\"_parent\"><img src=\"https://colab.research.google.com/assets/colab-badge.svg\" alt=\"Open In Colab\"/></a>"
      ]
    },
    {
      "cell_type": "code",
      "execution_count": null,
      "metadata": {
        "id": "6JIs-zHkVxmk"
      },
      "outputs": [],
      "source": [
        "!git clone https://github.com/facebookresearch/audiocraft.git"
      ]
    },
    {
      "cell_type": "code",
      "execution_count": null,
      "metadata": {
        "id": "5BvR4empV38g"
      },
      "outputs": [],
      "source": [
        "%cd audiocraft\n",
        "!python3 -m pip install -r requirements.txt\n",
        "!python3 -m pip install -e ."
      ]
    },
    {
      "cell_type": "code",
      "execution_count": null,
      "metadata": {
        "id": "L8giBnpJV5Vy"
      },
      "outputs": [],
      "source": [
        "import torchaudio\n",
        "from audiocraft.models import MusicGen\n",
        "from audiocraft.data.audio import audio_write\n",
        "\n",
        "model = MusicGen.get_pretrained('facebook/musicgen-melody')\n",
        "model.set_generation_params(duration=8)  # generate 8 seconds.\n",
        "wav = model.generate_unconditional(4)    # generates 4 unconditional audio samples\n",
        "\n",
        "for idx, one_wav in enumerate(wav):\n",
        "    # Will save under unconditional_{idx}.wav, with loudness normalization at -14 db LUFS.\n",
        "    audio_write(f'unconditional_{idx}', one_wav.cpu(), model.sample_rate, strategy=\"loudness\", loudness_compressor=True)"
      ]
    },
    {
      "cell_type": "code",
      "execution_count": null,
      "metadata": {
        "id": "Gs3t5LYiY0dJ"
      },
      "outputs": [],
      "source": [
        "descriptions = ['happy rock', 'energetic EDM', 'sad jazz']\n",
        "wav = model.generate(descriptions)  # generates 3 samples.\n",
        "\n",
        "for idx, one_wav in enumerate(wav):\n",
        "    # Will save under description_{idx}.wav, with loudness normalization at -14 db LUFS.\n",
        "    audio_write(f'description_{idx}', one_wav.cpu(), model.sample_rate, strategy=\"loudness\", loudness_compressor=True)"
      ]
    },
    {
      "cell_type": "code",
      "execution_count": null,
      "metadata": {
        "id": "mXTqIHYRY2xV"
      },
      "outputs": [],
      "source": [
        "melody, sr = torchaudio.load('./assets/bach.mp3')\n",
        "# generates using the melody from the given audio and the provided descriptions.\n",
        "wav = model.generate_with_chroma(descriptions, melody[None].expand(3, -1, -1), sr)\n",
        "\n",
        "for idx, one_wav in enumerate(wav):\n",
        "    # Will save under audio_input_{idx}.wav, with loudness normalization at -14 db LUFS.\n",
        "    audio_write(f'audio_input_{idx}', one_wav.cpu(), model.sample_rate, strategy=\"loudness\", loudness_compressor=True)"
      ]
    }
  ],
  "metadata": {
    "colab": {
      "gpuType": "T4",
      "provenance": [],
      "authorship_tag": "ABX9TyOlcFoA2bdFVuWwJ8c8jUpY",
      "include_colab_link": true
    },
    "kernelspec": {
      "display_name": "Python 3",
      "name": "python3"
    },
    "language_info": {
      "name": "python"
    },
    "accelerator": "GPU"
  },
  "nbformat": 4,
  "nbformat_minor": 0
}