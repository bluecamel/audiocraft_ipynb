{
  "nbformat": 4,
  "nbformat_minor": 0,
  "metadata": {
    "colab": {
      "provenance": [],
      "gpuType": "T4",
      "authorship_tag": "ABX9TyOjL2GGZAWhIGIrEjcTS4vT",
      "include_colab_link": true
    },
    "kernelspec": {
      "name": "python3",
      "display_name": "Python 3"
    },
    "language_info": {
      "name": "python"
    },
    "accelerator": "GPU"
  },
  "cells": [
    {
      "cell_type": "markdown",
      "metadata": {
        "id": "view-in-github",
        "colab_type": "text"
      },
      "source": [
        "<a href=\"https://colab.research.google.com/github/bluecamel/audiocraft_ipynb/blob/main/MusicGen_Gradio.ipynb\" target=\"_parent\"><img src=\"https://colab.research.google.com/assets/colab-badge.svg\" alt=\"Open In Colab\"/></a>"
      ]
    },
    {
      "cell_type": "code",
      "execution_count": null,
      "metadata": {
        "id": "q_a5Dai4ad5-"
      },
      "outputs": [],
      "source": [
        "!git clone https://github.com/facebookresearch/audiocraft.git"
      ]
    },
    {
      "cell_type": "code",
      "source": [
        "%cd audiocraft\n",
        "!python3 -m pip install -r requirements.txt\n",
        "!python3 -m pip install -e ."
      ],
      "metadata": {
        "id": "UNabKieUb9yr"
      },
      "execution_count": null,
      "outputs": []
    },
    {
      "cell_type": "code",
      "source": [
        "!python3 demos/musicgen_app.py --share"
      ],
      "metadata": {
        "id": "DXayQgrlcFof"
      },
      "execution_count": null,
      "outputs": []
    }
  ]
}