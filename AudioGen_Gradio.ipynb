{
  "cells": [
    {
      "cell_type": "markdown",
      "metadata": {
        "id": "view-in-github",
        "colab_type": "text"
      },
      "source": [
        "<a href=\"https://colab.research.google.com/github/bluecamel/audiocraft_ipynb/blob/main/AudioGen_Gradio.ipynb\" target=\"_parent\"><img src=\"https://colab.research.google.com/assets/colab-badge.svg\" alt=\"Open In Colab\"/></a>"
      ]
    },
    {
      "cell_type": "code",
      "execution_count": null,
      "metadata": {
        "id": "8HqxL38Ub0Pu"
      },
      "outputs": [],
      "source": [
        "!git clone https://github.com/cocktailpeanut/audiocraft.git"
      ]
    },
    {
      "cell_type": "code",
      "execution_count": null,
      "metadata": {
        "id": "pFth_gFgcAqh"
      },
      "outputs": [],
      "source": [
        "%cd audiocraft\n",
        "!python3 -m pip install -r requirements.txt\n",
        "!python3 -m pip install -e ."
      ]
    },
    {
      "cell_type": "code",
      "execution_count": null,
      "metadata": {
        "id": "T0rnUlqDcaNt"
      },
      "outputs": [],
      "source": [
        "!python3 demos/audiogen_app.py --share"
      ]
    }
  ],
  "metadata": {
    "colab": {
      "gpuType": "T4",
      "provenance": [],
      "authorship_tag": "ABX9TyNZBNL9x1jm4OIL5KRR/Gug",
      "include_colab_link": true
    },
    "kernelspec": {
      "display_name": "Python 3",
      "name": "python3"
    },
    "language_info": {
      "name": "python"
    },
    "accelerator": "GPU"
  },
  "nbformat": 4,
  "nbformat_minor": 0
}