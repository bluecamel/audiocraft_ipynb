{
  "cells": [
    {
      "cell_type": "markdown",
      "metadata": {
        "id": "view-in-github",
        "colab_type": "text"
      },
      "source": [
        "<a href=\"https://colab.research.google.com/github/bluecamel/audiocraft_ipynb/blob/main/AudioGen.ipynb\" target=\"_parent\"><img src=\"https://colab.research.google.com/assets/colab-badge.svg\" alt=\"Open In Colab\"/></a>"
      ]
    },
    {
      "cell_type": "code",
      "execution_count": null,
      "metadata": {
        "id": "hXvtNkEMdiU3"
      },
      "outputs": [],
      "source": [
        "!git clone https://github.com/facebookresearch/audiocraft.git"
      ]
    },
    {
      "cell_type": "code",
      "execution_count": null,
      "metadata": {
        "id": "RN5uPTP-dnWI"
      },
      "outputs": [],
      "source": [
        "%cd audiocraft\n",
        "!python3 -m pip install -r requirements.txt\n",
        "!python3 -m pip install -e ."
      ]
    },
    {
      "cell_type": "code",
      "execution_count": null,
      "metadata": {
        "id": "BdABFu7Kdstm"
      },
      "outputs": [],
      "source": [
        "import torchaudio\n",
        "from audiocraft.models import AudioGen\n",
        "from audiocraft.data.audio import audio_write\n",
        "\n",
        "model = AudioGen.get_pretrained('facebook/audiogen-medium')\n",
        "model.set_generation_params(duration=5)  # generate 5 seconds.\n",
        "descriptions = ['dog barking', 'siren of an emergency vehicle', 'footsteps in a corridor']\n",
        "wav = model.generate(descriptions)  # generates 3 samples.\n",
        "\n",
        "for idx, one_wav in enumerate(wav):\n",
        "    # Will save under {idx}.wav, with loudness normalization at -14 db LUFS.\n",
        "    audio_write(f'{idx}', one_wav.cpu(), model.sample_rate, strategy=\"loudness\", loudness_compressor=True)"
      ]
    }
  ],
  "metadata": {
    "colab": {
      "gpuType": "T4",
      "provenance": [],
      "authorship_tag": "ABX9TyOpnnLaA+msu6hm2WQn/muw",
      "include_colab_link": true
    },
    "kernelspec": {
      "display_name": "Python 3",
      "name": "python3"
    },
    "language_info": {
      "name": "python"
    },
    "accelerator": "GPU"
  },
  "nbformat": 4,
  "nbformat_minor": 0
}